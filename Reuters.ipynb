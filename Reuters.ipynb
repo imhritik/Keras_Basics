{
 "cells": [
  {
   "cell_type": "code",
   "execution_count": 1,
   "metadata": {},
   "outputs": [
    {
     "name": "stderr",
     "output_type": "stream",
     "text": [
      "Using TensorFlow backend.\n"
     ]
    }
   ],
   "source": [
    "from keras.datasets import reuters"
   ]
  },
  {
   "cell_type": "code",
   "execution_count": 2,
   "metadata": {},
   "outputs": [],
   "source": [
    "(X_train,y_train),(X_test,y_test) = reuters.load_data(num_words=10000)"
   ]
  },
  {
   "cell_type": "code",
   "execution_count": 3,
   "metadata": {},
   "outputs": [
    {
     "data": {
      "text/plain": [
       "8982"
      ]
     },
     "execution_count": 3,
     "metadata": {},
     "output_type": "execute_result"
    }
   ],
   "source": [
    "len(X_train)"
   ]
  },
  {
   "cell_type": "code",
   "execution_count": 4,
   "metadata": {},
   "outputs": [
    {
     "data": {
      "text/plain": [
       "2246"
      ]
     },
     "execution_count": 4,
     "metadata": {},
     "output_type": "execute_result"
    }
   ],
   "source": [
    "len(X_test)"
   ]
  },
  {
   "cell_type": "code",
   "execution_count": 5,
   "metadata": {},
   "outputs": [],
   "source": [
    "#X_train[0]"
   ]
  },
  {
   "cell_type": "raw",
   "metadata": {},
   "source": []
  },
  {
   "cell_type": "code",
   "execution_count": 6,
   "metadata": {},
   "outputs": [
    {
     "data": {
      "text/plain": [
       "numpy.ndarray"
      ]
     },
     "execution_count": 6,
     "metadata": {},
     "output_type": "execute_result"
    }
   ],
   "source": [
    "type(y_test)"
   ]
  },
  {
   "cell_type": "code",
   "execution_count": 7,
   "metadata": {},
   "outputs": [],
   "source": [
    "word_index = reuters.get_word_index()\n",
    "reverse_word_index = dict([(value,key) for (key,value) in word_index.items()])\n",
    "deocded_newswire = ''.join([reverse_word_index.get(i-3,'?') for i in X_train[0]])"
   ]
  },
  {
   "cell_type": "code",
   "execution_count": 8,
   "metadata": {},
   "outputs": [
    {
     "data": {
      "text/plain": [
       "'e'"
      ]
     },
     "execution_count": 8,
     "metadata": {},
     "output_type": "execute_result"
    }
   ],
   "source": [
    "deocded_newswire[101]"
   ]
  },
  {
   "cell_type": "code",
   "execution_count": 9,
   "metadata": {},
   "outputs": [],
   "source": [
    "#vectorize data"
   ]
  },
  {
   "cell_type": "code",
   "execution_count": 10,
   "metadata": {},
   "outputs": [],
   "source": [
    "import numpy as np"
   ]
  },
  {
   "cell_type": "code",
   "execution_count": 11,
   "metadata": {},
   "outputs": [],
   "source": [
    "def vectorize_data(seq,dimensions=10000):\n",
    "    result = np.zeros((len(seq),dimensions))\n",
    "    for i,label in enumerate(seq):\n",
    "        result[i,label]=1\n",
    "    return result"
   ]
  },
  {
   "cell_type": "code",
   "execution_count": 12,
   "metadata": {},
   "outputs": [],
   "source": [
    "X_train = vectorize_data(X_train)\n",
    "X_test = vectorize_data(X_test)"
   ]
  },
  {
   "cell_type": "code",
   "execution_count": 13,
   "metadata": {},
   "outputs": [],
   "source": [
    "from keras.utils.np_utils import to_categorical\n",
    "y_train = to_categorical(y_train)\n",
    "y_test = to_categorical(y_test)"
   ]
  },
  {
   "cell_type": "code",
   "execution_count": 14,
   "metadata": {},
   "outputs": [],
   "source": [
    "from keras import layers\n",
    "from keras import models"
   ]
  },
  {
   "cell_type": "code",
   "execution_count": 15,
   "metadata": {},
   "outputs": [
    {
     "name": "stderr",
     "output_type": "stream",
     "text": [
      "WARNING: Logging before flag parsing goes to stderr.\n",
      "W0815 23:17:45.351295 16212 deprecation_wrapper.py:119] From C:\\Users\\hriti\\Anaconda3\\lib\\site-packages\\keras\\backend\\tensorflow_backend.py:74: The name tf.get_default_graph is deprecated. Please use tf.compat.v1.get_default_graph instead.\n",
      "\n",
      "W0815 23:17:49.955255 16212 deprecation_wrapper.py:119] From C:\\Users\\hriti\\Anaconda3\\lib\\site-packages\\keras\\backend\\tensorflow_backend.py:517: The name tf.placeholder is deprecated. Please use tf.compat.v1.placeholder instead.\n",
      "\n",
      "W0815 23:17:51.018219 16212 deprecation_wrapper.py:119] From C:\\Users\\hriti\\Anaconda3\\lib\\site-packages\\keras\\backend\\tensorflow_backend.py:4138: The name tf.random_uniform is deprecated. Please use tf.random.uniform instead.\n",
      "\n"
     ]
    }
   ],
   "source": [
    "model = models.Sequential()\n",
    "model.add(layers.Dense(64,input_shape=(10000,),activation='relu'))\n",
    "model.add(layers.Dense(4,activation='relu'))\n",
    "model.add(layers.Dense(46,activation='softmax'))"
   ]
  },
  {
   "cell_type": "code",
   "execution_count": 16,
   "metadata": {},
   "outputs": [
    {
     "name": "stderr",
     "output_type": "stream",
     "text": [
      "W0815 23:17:52.009971 16212 deprecation_wrapper.py:119] From C:\\Users\\hriti\\Anaconda3\\lib\\site-packages\\keras\\optimizers.py:790: The name tf.train.Optimizer is deprecated. Please use tf.compat.v1.train.Optimizer instead.\n",
      "\n",
      "W0815 23:17:52.152032 16212 deprecation_wrapper.py:119] From C:\\Users\\hriti\\Anaconda3\\lib\\site-packages\\keras\\backend\\tensorflow_backend.py:3295: The name tf.log is deprecated. Please use tf.math.log instead.\n",
      "\n"
     ]
    }
   ],
   "source": [
    "model.compile(optimizer='rmsprop',loss='categorical_crossentropy',metrics=['accuracy'])"
   ]
  },
  {
   "cell_type": "code",
   "execution_count": 17,
   "metadata": {},
   "outputs": [],
   "source": [
    "x_val = X_train[:1000]\n",
    "X_tt = X_train[1000:]"
   ]
  },
  {
   "cell_type": "code",
   "execution_count": 18,
   "metadata": {},
   "outputs": [],
   "source": [
    "y_val = y_train[:1000]\n",
    "y_tt = y_train[1000:]"
   ]
  },
  {
   "cell_type": "code",
   "execution_count": 19,
   "metadata": {},
   "outputs": [
    {
     "name": "stderr",
     "output_type": "stream",
     "text": [
      "W0815 23:17:55.749004 16212 deprecation.py:323] From C:\\Users\\hriti\\Anaconda3\\lib\\site-packages\\tensorflow\\python\\ops\\math_grad.py:1250: add_dispatch_support.<locals>.wrapper (from tensorflow.python.ops.array_ops) is deprecated and will be removed in a future version.\n",
      "Instructions for updating:\n",
      "Use tf.where in 2.0, which has the same broadcast rule as np.where\n",
      "W0815 23:17:55.944284 16212 deprecation_wrapper.py:119] From C:\\Users\\hriti\\Anaconda3\\lib\\site-packages\\keras\\backend\\tensorflow_backend.py:986: The name tf.assign_add is deprecated. Please use tf.compat.v1.assign_add instead.\n",
      "\n"
     ]
    },
    {
     "name": "stdout",
     "output_type": "stream",
     "text": [
      "Train on 7982 samples, validate on 1000 samples\n",
      "Epoch 1/20\n",
      "7982/7982 [==============================] - 13s 2ms/step - loss: 3.4260 - acc: 0.3183 - val_loss: 3.0428 - val_acc: 0.3750\n",
      "Epoch 2/20\n",
      "7982/7982 [==============================] - 1s 169us/step - loss: 2.7154 - acc: 0.4778 - val_loss: 2.4821 - val_acc: 0.5610\n",
      "Epoch 3/20\n",
      "7982/7982 [==============================] - 1s 168us/step - loss: 2.1790 - acc: 0.6105 - val_loss: 2.0758 - val_acc: 0.6070\n",
      "Epoch 4/20\n",
      "7982/7982 [==============================] - 1s 164us/step - loss: 1.8031 - acc: 0.6368 - val_loss: 1.8163 - val_acc: 0.6130\n",
      "Epoch 5/20\n",
      "7982/7982 [==============================] - 1s 169us/step - loss: 1.5466 - acc: 0.6551 - val_loss: 1.6513 - val_acc: 0.6300\n",
      "Epoch 6/20\n",
      "7982/7982 [==============================] - 1s 169us/step - loss: 1.3802 - acc: 0.6769 - val_loss: 1.5374 - val_acc: 0.6380\n",
      "Epoch 7/20\n",
      "7982/7982 [==============================] - 1s 162us/step - loss: 1.2624 - acc: 0.6961 - val_loss: 1.4823 - val_acc: 0.6480\n",
      "Epoch 8/20\n",
      "7982/7982 [==============================] - 1s 169us/step - loss: 1.1698 - acc: 0.7254 - val_loss: 1.4284 - val_acc: 0.6630\n",
      "Epoch 9/20\n",
      "7982/7982 [==============================] - 1s 166us/step - loss: 1.0997 - acc: 0.7379 - val_loss: 1.4042 - val_acc: 0.6680\n",
      "Epoch 10/20\n",
      "7982/7982 [==============================] - 1s 169us/step - loss: 1.0373 - acc: 0.7479 - val_loss: 1.3698 - val_acc: 0.6740\n",
      "Epoch 11/20\n",
      "7982/7982 [==============================] - 1s 165us/step - loss: 0.9842 - acc: 0.7625 - val_loss: 1.3573 - val_acc: 0.6880\n",
      "Epoch 12/20\n",
      "7982/7982 [==============================] - 1s 163us/step - loss: 0.9328 - acc: 0.7717 - val_loss: 1.3548 - val_acc: 0.6870\n",
      "Epoch 13/20\n",
      "7982/7982 [==============================] - 1s 174us/step - loss: 0.8913 - acc: 0.7791 - val_loss: 1.3357 - val_acc: 0.6870\n",
      "Epoch 14/20\n",
      "7982/7982 [==============================] - 2s 198us/step - loss: 0.8492 - acc: 0.7880 - val_loss: 1.3366 - val_acc: 0.6900\n",
      "Epoch 15/20\n",
      "7982/7982 [==============================] - 1s 175us/step - loss: 0.8076 - acc: 0.7964 - val_loss: 1.3350 - val_acc: 0.6880\n",
      "Epoch 16/20\n",
      "7982/7982 [==============================] - 1s 171us/step - loss: 0.7742 - acc: 0.8034 - val_loss: 1.3480 - val_acc: 0.6930\n",
      "Epoch 17/20\n",
      "7982/7982 [==============================] - 2s 202us/step - loss: 0.7376 - acc: 0.8158 - val_loss: 1.3537 - val_acc: 0.6990\n",
      "Epoch 18/20\n",
      "7982/7982 [==============================] - 1s 176us/step - loss: 0.7087 - acc: 0.8240 - val_loss: 1.3542 - val_acc: 0.7020\n",
      "Epoch 19/20\n",
      "7982/7982 [==============================] - 1s 175us/step - loss: 0.6770 - acc: 0.8305 - val_loss: 1.3761 - val_acc: 0.6960\n",
      "Epoch 20/20\n",
      "7982/7982 [==============================] - 1s 165us/step - loss: 0.6510 - acc: 0.8349 - val_loss: 1.3819 - val_acc: 0.6950\n"
     ]
    }
   ],
   "source": [
    "history = model.fit(X_tt,y_tt,validation_data=(x_val,y_val),batch_size=512,epochs=20)"
   ]
  },
  {
   "cell_type": "code",
   "execution_count": 20,
   "metadata": {},
   "outputs": [],
   "source": [
    "import matplotlib.pyplot as plt\n",
    "%matplotlib inline"
   ]
  },
  {
   "cell_type": "code",
   "execution_count": 21,
   "metadata": {},
   "outputs": [],
   "source": [
    "hist_dict = history.history"
   ]
  },
  {
   "cell_type": "code",
   "execution_count": 22,
   "metadata": {},
   "outputs": [
    {
     "data": {
      "text/plain": [
       "dict_keys(['val_loss', 'val_acc', 'loss', 'acc'])"
      ]
     },
     "execution_count": 22,
     "metadata": {},
     "output_type": "execute_result"
    }
   ],
   "source": [
    "hist_dict.keys()"
   ]
  },
  {
   "cell_type": "code",
   "execution_count": 23,
   "metadata": {},
   "outputs": [],
   "source": [
    "loss = hist_dict['loss']\n",
    "val_loss = hist_dict['val_loss']\n",
    "acc = hist_dict['acc']\n",
    "val_acc = hist_dict['val_acc']"
   ]
  },
  {
   "cell_type": "code",
   "execution_count": 24,
   "metadata": {},
   "outputs": [],
   "source": [
    "epochs=range(1,21)"
   ]
  },
  {
   "cell_type": "code",
   "execution_count": 25,
   "metadata": {},
   "outputs": [
    {
     "data": {
      "text/plain": [
       "Text(0, 0.5, 'Loss')"
      ]
     },
     "execution_count": 25,
     "metadata": {},
     "output_type": "execute_result"
    },
    {
     "data": {
      "image/png": "[encoded data removed]",
      "text/plain": [
       "<Figure size 432x288 with 1 Axes>"
      ]
     },
     "metadata": {
      "needs_background": "light"
     },
     "output_type": "display_data"
    }
   ],
   "source": [
    "plt.plot(epochs,loss,'r',label='Trining Loss')\n",
    "plt.plot(epochs,val_loss,'bo',label='Validation Loss')\n",
    "plt.legend()\n",
    "plt.xlabel('Epochs')\n",
    "plt.ylabel('Loss')"
   ]
  },
  {
   "cell_type": "code",
   "execution_count": 26,
   "metadata": {},
   "outputs": [
    {
     "data": {
      "text/plain": [
       "Text(0, 0.5, 'Loss')"
      ]
     },
     "execution_count": 26,
     "metadata": {},
     "output_type": "execute_result"
    },
    {
     "data": {
      "image/png": "[encoded data removed]",
      "text/plain": [
       "<Figure size 432x288 with 1 Axes>"
      ]
     },
     "metadata": {
      "needs_background": "light"
     },
     "output_type": "display_data"
    }
   ],
   "source": [
    "plt.plot(epochs,acc,'r',label='Trining Accuracy')\n",
    "plt.plot(epochs,val_acc,'bo',label='Validation Acc')\n",
    "plt.legend()\n",
    "plt.xlabel('Epochs')\n",
    "plt.ylabel('Loss')"
   ]
  },
  {
   "cell_type": "code",
   "execution_count": 27,
   "metadata": {},
   "outputs": [
    {
     "data": {
      "text/plain": [
       "[0.3183412682633745,\n",
       " 0.47782510601168915,\n",
       " 0.6104986224070553,\n",
       " 0.636807817813598,\n",
       " 0.6550989720314196,\n",
       " 0.6768980213676411,\n",
       " 0.6960661478939884,\n",
       " 0.7253821088060405,\n",
       " 0.737910298902688,\n",
       " 0.747932848372396,\n",
       " 0.7624655464513354,\n",
       " 0.7717364057954527,\n",
       " 0.7791280383395838,\n",
       " 0.7880230514335919,\n",
       " 0.7964169382600969,\n",
       " 0.8034327245690536,\n",
       " 0.815835630526312,\n",
       " 0.823978952120731,\n",
       " 0.8304936116693373,\n",
       " 0.8348784759599623]"
      ]
     },
     "execution_count": 27,
     "metadata": {},
     "output_type": "execute_result"
    }
   ],
   "source": [
    "acc"
   ]
  },
  {
   "cell_type": "code",
   "execution_count": 28,
   "metadata": {},
   "outputs": [],
   "source": [
    "#model getting overfitted after 9 epochs"
   ]
  },
  {
   "cell_type": "code",
   "execution_count": 29,
   "metadata": {},
   "outputs": [
    {
     "name": "stdout",
     "output_type": "stream",
     "text": [
      "Train on 7982 samples, validate on 1000 samples\n",
      "Epoch 1/9\n",
      "7982/7982 [==============================] - 2s 204us/step - loss: 2.5358 - acc: 0.5228 - val_loss: 1.6798 - val_acc: 0.6530\n",
      "Epoch 2/9\n",
      "7982/7982 [==============================] - 1s 149us/step - loss: 1.3748 - acc: 0.7119 - val_loss: 1.2803 - val_acc: 0.7210\n",
      "Epoch 3/9\n",
      "7982/7982 [==============================] - 1s 151us/step - loss: 1.0190 - acc: 0.7784 - val_loss: 1.1345 - val_acc: 0.7520\n",
      "Epoch 4/9\n",
      "7982/7982 [==============================] - 1s 158us/step - loss: 0.8031 - acc: 0.8239 - val_loss: 1.0552 - val_acc: 0.7570\n",
      "Epoch 5/9\n",
      "7982/7982 [==============================] - 1s 171us/step - loss: 0.6433 - acc: 0.8613 - val_loss: 0.9774 - val_acc: 0.7930\n",
      "Epoch 6/9\n",
      "7982/7982 [==============================] - 1s 184us/step - loss: 0.5147 - acc: 0.8914 - val_loss: 0.9104 - val_acc: 0.8110\n",
      "Epoch 7/9\n",
      "7982/7982 [==============================] - 1s 180us/step - loss: 0.4144 - acc: 0.9144 - val_loss: 0.8941 - val_acc: 0.8220\n",
      "Epoch 8/9\n",
      "7982/7982 [==============================] - 1s 175us/step - loss: 0.3371 - acc: 0.9280 - val_loss: 0.8724 - val_acc: 0.8250\n",
      "Epoch 9/9\n",
      "7982/7982 [==============================] - 1s 178us/step - loss: 0.2802 - acc: 0.9374 - val_loss: 0.9345 - val_acc: 0.8030\n"
     ]
    }
   ],
   "source": [
    "model = models.Sequential()\n",
    "model.add(layers.Dense(64,input_shape=(10000,),activation='relu'))\n",
    "model.add(layers.Dense(64,activation='relu'))\n",
    "model.add(layers.Dense(46,activation='softmax'))\n",
    "model.compile(optimizer='rmsprop',loss='categorical_crossentropy',metrics=['accuracy'])\n",
    "history = model.fit(X_tt,y_tt,validation_data=(x_val,y_val),batch_size=512,epochs=9)"
   ]
  },
  {
   "cell_type": "code",
   "execution_count": 30,
   "metadata": {},
   "outputs": [
    {
     "name": "stdout",
     "output_type": "stream",
     "text": [
      "2246/2246 [==============================] - 1s 324us/step\n"
     ]
    }
   ],
   "source": [
    "pred = model.evaluate(X_test,y_test)"
   ]
  },
  {
   "cell_type": "code",
   "execution_count": 41,
   "metadata": {},
   "outputs": [
    {
     "data": {
      "text/plain": [
       "[1.022498287904082, 0.7756010686194165]"
      ]
     },
     "execution_count": 41,
     "metadata": {},
     "output_type": "execute_result"
    }
   ],
   "source": [
    "pred"
   ]
  },
  {
   "cell_type": "code",
   "execution_count": 42,
   "metadata": {},
   "outputs": [
    {
     "data": {
      "text/plain": [
       "(2246, 46)"
      ]
     },
     "execution_count": 42,
     "metadata": {},
     "output_type": "execute_result"
    }
   ],
   "source": [
    "y_test.shape"
   ]
  },
  {
   "cell_type": "code",
   "execution_count": null,
   "metadata": {},
   "outputs": [],
   "source": [
    "#77.56"
   ]
  }
 ],
 "metadata": {
  "kernelspec": {
   "display_name": "Python 3",
   "language": "python",
   "name": "python3"
  },
  "language_info": {
   "codemirror_mode": {
    "name": "ipython",
    "version": 3
   },
   "file_extension": ".py",
   "mimetype": "text/x-python",
   "name": "python",
   "nbconvert_exporter": "python",
   "pygments_lexer": "ipython3",
   "version": "3.7.3"
  }
 },
 "nbformat": 4,
 "nbformat_minor": 2
}
